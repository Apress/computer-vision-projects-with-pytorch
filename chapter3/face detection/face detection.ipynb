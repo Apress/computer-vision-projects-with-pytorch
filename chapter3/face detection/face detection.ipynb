{
 "cells": [
  {
   "cell_type": "markdown",
   "id": "innovative-despite",
   "metadata": {},
   "source": [
    "## Importing package"
   ]
  },
  {
   "cell_type": "code",
   "execution_count": 1,
   "id": "signed-truck",
   "metadata": {},
   "outputs": [],
   "source": [
    "import cv2\n",
    "import gc"
   ]
  },
  {
   "cell_type": "markdown",
   "id": "australian-document",
   "metadata": {},
   "source": [
    "## function to process saved model and detect face"
   ]
  },
  {
   "cell_type": "code",
   "execution_count": 8,
   "id": "protected-ticket",
   "metadata": {},
   "outputs": [],
   "source": [
    "def detect_face_eye(frame):\n",
    "    ## normalization and convert color to gray scale\n",
    "    frame_to_gray = cv2.equalizeHist(cv2.cvtColor(frame, cv2.COLOR_BGR2GRAY))\n",
    "    ## application should be able to different scales of image\n",
    "    detected_faces = face_cascade.detectMultiScale(frame_to_gray)\n",
    "    for (x,y,w,h) in detected_faces:\n",
    "        center_face = (x + w//2, y + h//2)\n",
    "        ## draw an ellipse\n",
    "        frame = cv2.ellipse(frame, center_face, (w//2, h//2), 0, 0, 360, (125, 125, 125), 6)\n",
    "        face_regionofinterest = frame_to_gray[y:y+h,x:x+w]\n",
    "        #detect eyes - for each detected face\n",
    "        ## similar multiscale operations\n",
    "        detected_eyes = eyes_cascade.detectMultiScale(face_regionofinterest)\n",
    "        for (x2,y2,w2,h2) in detected_eyes:\n",
    "            center_eye = (x + x2 + w2//2, y + y2 + h2//2)\n",
    "            radius = int(round((w2 + h2)*0.25))\n",
    "            ## draw a circle\n",
    "            frame = cv2.circle(frame, center_eye, radius, (255, 255, 255 ), 4)\n",
    "    cv2.imshow('--Face Detection--', frame)"
   ]
  },
  {
   "cell_type": "markdown",
   "id": "romance-recycling",
   "metadata": {},
   "source": [
    "## load and run the cascade to detect face and eyes"
   ]
  },
  {
   "cell_type": "code",
   "execution_count": 9,
   "id": "adapted-religion",
   "metadata": {},
   "outputs": [],
   "source": [
    "## saved xml paths\n",
    "face_cascade_name = r'C:\\Users\\nitin_plnn9kz\\OneDrive\\Desktop\\books\\cv\\chapter 3\\frontal_face_alt.xml'\n",
    "eyes_cascade_name = r'C:\\Users\\nitin_plnn9kz\\OneDrive\\Desktop\\books\\cv\\chapter 3\\eye_cascade_model.xml'\n",
    "## initialize the cascade for detection\n",
    "face_cascade = cv2.CascadeClassifier()\n",
    "eyes_cascade = cv2.CascadeClassifier()\n",
    "## load the cascades face followed by eyes\n",
    "face_cascade.load(cv2.samples.findFile(face_cascade_name))\n",
    "eyes_cascade.load(cv2.samples.findFile(eyes_cascade_name))\n",
    "\n",
    "camera_device = 0\n",
    "## enable video processing\n",
    "capture_cam_img = cv2.VideoCapture(camera_device)\n",
    "## enable classifier to operate on the face\n",
    "if capture_cam_img.isOpened :\n",
    "    while True:\n",
    "        ret, frame = capture_cam_img.read()\n",
    "        detect_face_eye(frame)\n",
    "        ## shut down cv video sensing when ESC is pressed\n",
    "        if cv2.waitKey(10) == 27:\n",
    "            cv2.destroyAllWindows()\n",
    "            gc.collect()\n",
    "            break"
   ]
  },
  {
   "cell_type": "code",
   "execution_count": null,
   "id": "talented-flavor",
   "metadata": {},
   "outputs": [],
   "source": []
  }
 ],
 "metadata": {
  "kernelspec": {
   "display_name": "Python 3",
   "language": "python",
   "name": "python3"
  },
  "language_info": {
   "codemirror_mode": {
    "name": "ipython",
    "version": 3
   },
   "file_extension": ".py",
   "mimetype": "text/x-python",
   "name": "python",
   "nbconvert_exporter": "python",
   "pygments_lexer": "ipython3",
   "version": "3.9.2"
  }
 },
 "nbformat": 4,
 "nbformat_minor": 5
}
