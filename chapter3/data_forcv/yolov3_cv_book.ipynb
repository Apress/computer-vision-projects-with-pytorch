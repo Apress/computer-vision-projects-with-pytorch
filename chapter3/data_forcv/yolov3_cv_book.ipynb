{
  "nbformat": 4,
  "nbformat_minor": 0,
  "metadata": {
    "colab": {
      "name": "yolov3_cv_book.ipynb",
      "provenance": [],
      "collapsed_sections": []
    },
    "kernelspec": {
      "name": "python3",
      "display_name": "Python 3"
    },
    "language_info": {
      "name": "python"
    },
    "accelerator": "GPU"
  },
  "cells": [
    {
      "cell_type": "code",
      "metadata": {
        "id": "JshFaQJTr2Zi"
      },
      "source": [
        ""
      ],
      "execution_count": null,
      "outputs": []
    },
    {
      "cell_type": "code",
      "metadata": {
        "colab": {
          "base_uri": "https://localhost:8080/"
        },
        "id": "c8xBc3t9r48o",
        "outputId": "0dfd1f34-7756-4702-a88c-4f5d21be0321"
      },
      "source": [
        "!git clone https://github.com/theschoolofai/YoloV3.git \n"
      ],
      "execution_count": 1,
      "outputs": [
        {
          "output_type": "stream",
          "name": "stdout",
          "text": [
            "Cloning into 'YoloV3'...\n",
            "remote: Enumerating objects: 156, done.\u001b[K\n",
            "remote: Total 156 (delta 0), reused 0 (delta 0), pack-reused 156\u001b[K\n",
            "Receiving objects: 100% (156/156), 12.74 MiB | 9.60 MiB/s, done.\n",
            "Resolving deltas: 100% (7/7), done.\n"
          ]
        }
      ]
    },
    {
      "cell_type": "code",
      "metadata": {
        "colab": {
          "base_uri": "https://localhost:8080/"
        },
        "id": "kg66wh2dsvy9",
        "outputId": "894cb475-57c6-4eea-f9f1-14cc00509686"
      },
      "source": [
        "import time\n",
        "import glob\n",
        "import torch\n",
        "import os\n",
        "\n",
        "from IPython.display import Image, clear_output \n",
        "print('PyTorch %s %s' % (torch.__version__, torch.cuda.get_device_properties(0) if torch.cuda.is_available() else 'CPU')) \n"
      ],
      "execution_count": null,
      "outputs": [
        {
          "output_type": "stream",
          "name": "stdout",
          "text": [
            "PyTorch 1.10.0+cu111 CPU\n"
          ]
        }
      ]
    },
    {
      "cell_type": "code",
      "metadata": {
        "id": "YeNE2Rowsyq4"
      },
      "source": [
        "!cp -r /content/drive/MyDrive/cv_book/data  '/content/YoloV3/'\n",
        "!cp -r /content/drive/MyDrive/cv_book/cfg  '/content/YoloV3/'"
      ],
      "execution_count": 2,
      "outputs": []
    },
    {
      "cell_type": "code",
      "metadata": {
        "id": "JP5L4bPOtAtz"
      },
      "source": [
        "!cp -r /content/drive/MyDrive/cv_book/weights  '/content/YoloV3/'"
      ],
      "execution_count": 3,
      "outputs": []
    },
    {
      "cell_type": "code",
      "metadata": {
        "colab": {
          "base_uri": "https://localhost:8080/"
        },
        "id": "n8Ns75CjEvLA",
        "outputId": "a9c65608-13bb-4d02-ff27-0dfd9cf2e924"
      },
      "source": [
        "%cd YoloV3"
      ],
      "execution_count": 5,
      "outputs": [
        {
          "output_type": "stream",
          "name": "stdout",
          "text": [
            "/content/YoloV3\n"
          ]
        }
      ]
    },
    {
      "cell_type": "code",
      "metadata": {
        "id": "eziqDX9ztHWl",
        "colab": {
          "base_uri": "https://localhost:8080/"
        },
        "outputId": "253f3f95-0f87-4b91-eeb4-c8f1ce9308a7"
      },
      "source": [
        "!python train.py --data data/custom.data --batch 3 --cache --epochs 3 --nosave"
      ],
      "execution_count": 6,
      "outputs": [
        {
          "output_type": "stream",
          "name": "stdout",
          "text": [
            "Namespace(accumulate=4, adam=False, batch_size=3, bucket='', cache_images=True, cfg='cfg/yolov3-spp.cfg', data='data/custom.data', device='', epochs=3, evolve=False, img_size=[512], multi_scale=False, name='', nosave=True, notest=False, rect=False, resume=False, single_cls=False, weights='weights/yolov3-spp-ultralytics.pt')\n",
            "Using CUDA device0 _CudaDeviceProperties(name='Tesla K80', total_memory=11441MB)\n",
            "\n",
            "Run 'tensorboard --logdir=runs' to view tensorboard at http://localhost:6006/\n",
            "WARNING: smart bias initialization failure.\n",
            "WARNING: smart bias initialization failure.\n",
            "WARNING: smart bias initialization failure.\n",
            "Model Summary: 225 layers, 6.29987e+07 parameters, 6.29987e+07 gradients\n",
            "  % Total    % Received % Xferd  Average Speed   Time    Time     Time  Current\n",
            "                                 Dload  Upload   Total   Spent    Left  Speed\n",
            "100   408    0   408    0     0   1243      0 --:--:-- --:--:-- --:--:--  1243\n",
            "  0     0    0     0    0     0      0      0 --:--:-- --:--:-- --:--:--     0\n",
            "  0     0    0     0    0     0      0      0 --:--:--  0:00:01 --:--:--     0\n",
            "100  240M  100  240M    0     0  65.0M      0  0:00:03  0:00:03 --:--:--  137M\n",
            "Downloading https://drive.google.com/uc?export=download&id=1UcR-zVoMs7DH5dj3N1bswkiQTA4dmKF4 as weights/yolov3-spp-ultralytics.pt... Done (4.2s)\n",
            "Caching labels (18 found, 0 missing, 0 empty, 0 duplicate, for 18 images): 100% 18/18 [00:00<00:00, 2169.53it/s]\n",
            "Caching images (0.0GB): 100% 18/18 [00:00<00:00, 102.53it/s]\n",
            "Caching labels (3 found, 0 missing, 0 empty, 0 duplicate, for 3 images): 100% 3/3 [00:00<00:00, 2603.54it/s]\n",
            "Caching images (0.0GB): 100% 3/3 [00:00<00:00, 68.57it/s]\n",
            "Image sizes 512 - 512 train, 512 test\n",
            "Using 2 dataloader workers\n",
            "Starting training for 3 epochs...\n",
            "\n",
            "     Epoch   gpu_mem      GIoU       obj       cls     total   targets  img_size\n",
            "  0% 0/6 [00:00<?, ?it/s]/usr/local/lib/python3.7/dist-packages/torch/cuda/memory.py:386: FutureWarning: torch.cuda.memory_cached has been renamed to torch.cuda.memory_reserved\n",
            "  FutureWarning)\n",
            "       0/2     2.63G      3.64      7.46     0.464      11.6        25       512:  17% 1/6 [00:04<00:22,  4.50s/it]/usr/local/lib/python3.7/dist-packages/torch/cuda/memory.py:386: FutureWarning: torch.cuda.memory_cached has been renamed to torch.cuda.memory_reserved\n",
            "  FutureWarning)\n",
            "       0/2     3.04G      3.01      6.39     0.445      9.84        24       512: 100% 6/6 [00:10<00:00,  1.71s/it]\n",
            "/usr/local/lib/python3.7/dist-packages/torch/functional.py:445: UserWarning: torch.meshgrid: in an upcoming release, it will be required to pass the indexing argument. (Triggered internally at  ../aten/src/ATen/native/TensorShape.cpp:2157.)\n",
            "  return _VF.meshgrid(tensors, **kwargs)  # type: ignore[attr-defined]\n",
            "               Class    Images   Targets         P         R   mAP@0.5        F1: 100% 1/1 [00:01<00:00,  1.86s/it]\n",
            "                 all         3        10         0         0         0         0\n",
            "\n",
            "     Epoch   gpu_mem      GIoU       obj       cls     total   targets  img_size\n",
            "  0% 0/6 [00:00<?, ?it/s]/usr/local/lib/python3.7/dist-packages/torch/cuda/memory.py:386: FutureWarning: torch.cuda.memory_cached has been renamed to torch.cuda.memory_reserved\n",
            "  FutureWarning)\n",
            "       1/2     3.05G      2.97      6.33     0.433      9.74        14       512: 100% 6/6 [00:06<00:00,  1.06s/it]\n",
            "               Class    Images   Targets         P         R   mAP@0.5        F1: 100% 1/1 [00:00<00:00,  2.55it/s]\n",
            "                 all         3        10         0         0         0         0\n",
            "\n",
            "     Epoch   gpu_mem      GIoU       obj       cls     total   targets  img_size\n",
            "       2/2     3.05G      3.25      5.64     0.463      9.36        14       512: 100% 6/6 [00:06<00:00,  1.07s/it]\n",
            "               Class    Images   Targets         P         R   mAP@0.5        F1: 100% 1/1 [00:00<00:00,  2.53it/s]\n",
            "                 all         3        10         0         0         0         0\n",
            "3 epochs completed in 0.008 hours.\n",
            "\n"
          ]
        }
      ]
    },
    {
      "cell_type": "code",
      "metadata": {
        "id": "ZwJMfjk8Etfl"
      },
      "source": [
        ""
      ],
      "execution_count": null,
      "outputs": []
    }
  ]
}