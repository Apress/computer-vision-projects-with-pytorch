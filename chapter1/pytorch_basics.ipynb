{
  "nbformat": 4,
  "nbformat_minor": 0,
  "metadata": {
    "colab": {
      "name": "pytorch basics.ipynb",
      "provenance": [],
      "collapsed_sections": []
    },
    "kernelspec": {
      "name": "python3",
      "display_name": "Python 3"
    },
    "language_info": {
      "name": "python"
    }
  },
  "cells": [
    {
      "cell_type": "code",
      "metadata": {
        "id": "HDd9_2_0JGPl"
      },
      "source": [
        ""
      ],
      "execution_count": null,
      "outputs": []
    },
    {
      "cell_type": "markdown",
      "metadata": {
        "id": "jQgChC30JjbG"
      },
      "source": [
        "# Imports"
      ]
    },
    {
      "cell_type": "code",
      "metadata": {
        "colab": {
          "base_uri": "https://localhost:8080/"
        },
        "id": "uI3mK3fCJlM0",
        "outputId": "047efa59-99a1-4097-d0be-8e24eebaf31a"
      },
      "source": [
        "import numpy as np\n",
        "import torch\n",
        "print(torch.__version__)"
      ],
      "execution_count": 29,
      "outputs": [
        {
          "output_type": "stream",
          "text": [
            "1.9.0+cu102\n"
          ],
          "name": "stdout"
        }
      ]
    },
    {
      "cell_type": "markdown",
      "metadata": {
        "id": "a7vQX4hARfZG"
      },
      "source": [
        "## Conversions with Numpy"
      ]
    },
    {
      "cell_type": "code",
      "metadata": {
        "colab": {
          "base_uri": "https://localhost:8080/"
        },
        "id": "DPg2Pz1SJ2E_",
        "outputId": "4bed7681-973e-42d4-c05a-76c627e5a71d"
      },
      "source": [
        "## lets see how torch tensors looks like\n",
        "x1 = [[1,1],[2,2]]\n",
        "print(\"Type of data :{}\".format(type(x1)))\n",
        "print(x1)\n",
        "x1 = np.array(x1)\n",
        "print(\"Type of data :{}\".format(type(x1)))\n",
        "print(x1)"
      ],
      "execution_count": 6,
      "outputs": [
        {
          "output_type": "stream",
          "text": [
            "Type of data :<class 'list'>\n",
            "[[1, 1], [2, 2]]\n",
            "Type of data :<class 'numpy.ndarray'>\n",
            "[[1 1]\n",
            " [2 2]]\n"
          ],
          "name": "stdout"
        }
      ]
    },
    {
      "cell_type": "code",
      "metadata": {
        "colab": {
          "base_uri": "https://localhost:8080/"
        },
        "id": "rg-APLMWKogq",
        "outputId": "f93692ee-f8f4-40d3-bc8b-53872ce06089"
      },
      "source": [
        "## converting numpy array to tensor\n",
        "x_tensor = torch.tensor(x1)\n",
        "print(\"Type of data :{}\".format(type(x_tensor)))\n",
        "print(x_tensor)"
      ],
      "execution_count": 7,
      "outputs": [
        {
          "output_type": "stream",
          "text": [
            "Type of data :<class 'torch.Tensor'>\n",
            "tensor([[1, 1],\n",
            "        [2, 2]])\n"
          ],
          "name": "stdout"
        }
      ]
    },
    {
      "cell_type": "code",
      "metadata": {
        "colab": {
          "base_uri": "https://localhost:8080/"
        },
        "id": "4qQ1eBnlN4-H",
        "outputId": "0956c858-36e2-4cec-872b-48c0933823a0"
      },
      "source": [
        "x1 =np.array([[2,2],[2,2]])\n",
        "x_tensor"
      ],
      "execution_count": 8,
      "outputs": [
        {
          "output_type": "execute_result",
          "data": {
            "text/plain": [
              "tensor([[1, 1],\n",
              "        [2, 2]])"
            ]
          },
          "metadata": {
            "tags": []
          },
          "execution_count": 8
        }
      ]
    },
    {
      "cell_type": "code",
      "metadata": {
        "colab": {
          "base_uri": "https://localhost:8080/"
        },
        "id": "HS3F1ZzvOsQz",
        "outputId": "ad7114a9-0088-420a-a8b7-759a34862db7"
      },
      "source": [
        "x_tensor = torch.Tensor(x1)\n",
        "print(\"Type of data :{}\".format(type(x_tensor)))\n",
        "print(x_tensor)"
      ],
      "execution_count": 9,
      "outputs": [
        {
          "output_type": "stream",
          "text": [
            "Type of data :<class 'torch.Tensor'>\n",
            "tensor([[2., 2.],\n",
            "        [2., 2.]])\n"
          ],
          "name": "stdout"
        }
      ]
    },
    {
      "cell_type": "code",
      "metadata": {
        "colab": {
          "base_uri": "https://localhost:8080/"
        },
        "id": "MJWibMt5PFlH",
        "outputId": "966c836c-2bb9-4a2f-8b39-0c2313970568"
      },
      "source": [
        "x1 =np.array([[1,2],[1,2]])\n",
        "x_tensor"
      ],
      "execution_count": 10,
      "outputs": [
        {
          "output_type": "execute_result",
          "data": {
            "text/plain": [
              "tensor([[2., 2.],\n",
              "        [2., 2.]])"
            ]
          },
          "metadata": {
            "tags": []
          },
          "execution_count": 10
        }
      ]
    },
    {
      "cell_type": "code",
      "metadata": {
        "colab": {
          "base_uri": "https://localhost:8080/"
        },
        "id": "A0nUdYVcPImu",
        "outputId": "4ec51285-f37f-45eb-ccb1-2ca77b164a8f"
      },
      "source": [
        "x_tensor = torch.from_numpy(x1)\n",
        "print(\"Type of data :{}\".format(type(x_tensor)))\n",
        "print(x_tensor)"
      ],
      "execution_count": 11,
      "outputs": [
        {
          "output_type": "stream",
          "text": [
            "Type of data :<class 'torch.Tensor'>\n",
            "tensor([[1, 2],\n",
            "        [1, 2]])\n"
          ],
          "name": "stdout"
        }
      ]
    },
    {
      "cell_type": "code",
      "metadata": {
        "colab": {
          "base_uri": "https://localhost:8080/"
        },
        "id": "-H3fgp-9PQEL",
        "outputId": "b210dab4-aaea-4301-cbce-334dc2d5f76e"
      },
      "source": [
        "x1 =np.array([[2,2],[2,2]])\n",
        "x_tensor"
      ],
      "execution_count": 12,
      "outputs": [
        {
          "output_type": "execute_result",
          "data": {
            "text/plain": [
              "tensor([[1, 2],\n",
              "        [1, 2]])"
            ]
          },
          "metadata": {
            "tags": []
          },
          "execution_count": 12
        }
      ]
    },
    {
      "cell_type": "markdown",
      "metadata": {
        "id": "auwKuBQXRjLE"
      },
      "source": [
        "## Generating tensors"
      ]
    },
    {
      "cell_type": "code",
      "metadata": {
        "colab": {
          "base_uri": "https://localhost:8080/"
        },
        "id": "JQqrSRxFPTVm",
        "outputId": "5c35c2d8-5cb5-4c57-cc1a-a9af649622d7"
      },
      "source": [
        "## generating tensors\n",
        "zero_t = torch.zeros((2,2))\n",
        "print(zero_t)\n",
        "one_t = torch.ones((2,2))\n",
        "print(one_t)\n",
        "rand_t = torch.rand(2,2)\n",
        "print(rand_t)"
      ],
      "execution_count": 20,
      "outputs": [
        {
          "output_type": "stream",
          "text": [
            "tensor([[0., 0.],\n",
            "        [0., 0.]])\n",
            "tensor([[1., 1.],\n",
            "        [1., 1.]])\n",
            "tensor([[0.1928, 0.3161],\n",
            "        [0.2537, 0.1133]])\n"
          ],
          "name": "stdout"
        }
      ]
    },
    {
      "cell_type": "code",
      "metadata": {
        "colab": {
          "base_uri": "https://localhost:8080/"
        },
        "id": "NY2hR7COPggi",
        "outputId": "68fdb1f9-f8cd-4351-c942-745b9f095277"
      },
      "source": [
        "print(one_t + rand_t)"
      ],
      "execution_count": 21,
      "outputs": [
        {
          "output_type": "stream",
          "text": [
            "tensor([[1.1928, 1.3161],\n",
            "        [1.2537, 1.1133]])\n"
          ],
          "name": "stdout"
        }
      ]
    },
    {
      "cell_type": "code",
      "metadata": {
        "colab": {
          "base_uri": "https://localhost:8080/"
        },
        "id": "xMa6PlJQQGke",
        "outputId": "2a2facf7-5dec-409f-b9a1-acc96762014a"
      },
      "source": [
        "print(one_t*rand_t)"
      ],
      "execution_count": 22,
      "outputs": [
        {
          "output_type": "stream",
          "text": [
            "tensor([[0.1928, 0.3161],\n",
            "        [0.2537, 0.1133]])\n"
          ],
          "name": "stdout"
        }
      ]
    },
    {
      "cell_type": "markdown",
      "metadata": {
        "id": "JtxzSUMSRnNb"
      },
      "source": [
        "## Array manipulations"
      ]
    },
    {
      "cell_type": "code",
      "metadata": {
        "colab": {
          "base_uri": "https://localhost:8080/"
        },
        "id": "m8_vDMobQMAW",
        "outputId": "83a9d3b4-4ebf-4f5d-d414-12ed2723f485"
      },
      "source": [
        "array1 = torch.tensor([1,2,4])\n",
        "array2 = torch.tensor([2,3,4])\n",
        "print(torch.dot(array1,array2))"
      ],
      "execution_count": 24,
      "outputs": [
        {
          "output_type": "stream",
          "text": [
            "tensor(24)\n"
          ],
          "name": "stdout"
        }
      ]
    },
    {
      "cell_type": "code",
      "metadata": {
        "colab": {
          "base_uri": "https://localhost:8080/"
        },
        "id": "79H4nFtJQmZ2",
        "outputId": "8cebfb57-7fd3-40e5-fe5b-1af2fba9d060"
      },
      "source": [
        "array1 = torch.tensor([1,2,4]).reshape(1,-1)\n",
        "print(array1.shape)\n",
        "array2 = torch.tensor([2,3,4]).reshape(-1,1)\n",
        "print(array2.shape)\n",
        "print(torch.matmul(array2,array1))"
      ],
      "execution_count": 28,
      "outputs": [
        {
          "output_type": "stream",
          "text": [
            "torch.Size([1, 3])\n",
            "torch.Size([3, 1])\n",
            "tensor([[ 2,  4,  8],\n",
            "        [ 3,  6, 12],\n",
            "        [ 4,  8, 16]])\n"
          ],
          "name": "stdout"
        }
      ]
    },
    {
      "cell_type": "code",
      "metadata": {
        "id": "BHRYry19ROKp"
      },
      "source": [
        ""
      ],
      "execution_count": null,
      "outputs": []
    }
  ]
}