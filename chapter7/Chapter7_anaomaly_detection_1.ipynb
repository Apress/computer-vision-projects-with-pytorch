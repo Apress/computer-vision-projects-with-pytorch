{
 "cells": [
  {
   "cell_type": "code",
   "execution_count": 2,
   "metadata": {
    "id": "lczqjcKnJNj3"
   },
   "outputs": [],
   "source": [
    "#import toorch\n",
    "import torch\n",
    "import torchvision\n",
    "import matplotlib.pyplot as plt\n",
    "\n",
    "#import time,os etc\n",
    "import time\n",
    "import os\n",
    "import numpy as np\n",
    "import random\n",
    "from distutils.version import LooseVersion as Version\n",
    "from itertools import product"
   ]
  },
  {
   "cell_type": "markdown",
   "metadata": {
    "id": "2J8ne-ENMflu"
   },
   "source": [
    "# **Settings**"
   ]
  },
  {
   "cell_type": "code",
   "execution_count": 68,
   "metadata": {
    "id": "xSfN62NvKR0y"
   },
   "outputs": [],
   "source": [
    "def seed_setting(sd):\n",
    "    os.environ[\"PL_GLOBAL_SEED\"] = str(sd)\n",
    "    random.seed(sd)\n",
    "    np.random.seed(sd)\n",
    "    torch.manual_seed(sd)\n",
    "    torch.cuda.manual_seed_all(sd)\n",
    "\n",
    "\n",
    "def fn_det_setting():\n",
    "    \n",
    "    #check if cuda is available\n",
    "    if torch.cuda.is_available():\n",
    "        torch.backends.cudnn.benchmark = False\n",
    "        torch.backends.cudnn.deterministic = True\n",
    "\n",
    "    #check torch version\n",
    "    if torch.__version__ <= Version(\"1.7\"):\n",
    "        torch.fn_det_setting(True)\n",
    "    else:\n",
    "        torch.use_deterministic_algorithms(True)\n",
    "\n",
    "#set seed, batch size\n",
    "RNDM_SEED = 245\n",
    "btch_input_sz = 128\n",
    "epch_nmbr = 25\n",
    "DEVICE = torch.device('cuda:1' if torch.cuda.is_available() else 'cpu')"
   ]
  },
  {
   "cell_type": "code",
   "execution_count": 69,
   "metadata": {
    "id": "d7cok7OIKbS2"
   },
   "outputs": [],
   "source": [
    "seed_setting(RNDM_SEED)\n",
    "#fn_det_setting() This may not work on Gpu because some algorithms are not deterministic on Gpu./"
   ]
  },
  {
   "cell_type": "code",
   "execution_count": 70,
   "metadata": {
    "id": "XsSyqY7KY9kz"
   },
   "outputs": [],
   "source": [
    "tr_ds_path = \"/content/drive/MyDrive/car_img/tr\" #Training Images\n",
    "vd_ds_path = \"/content/drive/MyDrive/car_img/vds\" #Validation Images\n",
    "ts_ds_path = \"/content/drive/MyDrive/car_img/ts\" #Test Images\n"
   ]
  },
  {
   "cell_type": "code",
   "execution_count": 71,
   "metadata": {
    "colab": {
     "base_uri": "https://localhost:8080/"
    },
    "id": "LqJ6d47aZb3R",
    "outputId": "e4a772aa-6ef4-4d43-fe15-edc4424018ff"
   },
   "outputs": [
    {
     "name": "stdout",
     "output_type": "stream",
     "text": [
      "Image batch dimensions: torch.Size([206, 3, 64, 64])\n",
      "Image label dimensions: torch.Size([206])\n",
      "Class labels of 10 examples: tensor([1, 0, 0, 1, 0, 0, 1, 1, 1, 1])\n"
     ]
    }
   ],
   "source": [
    "##########################\n",
    "### Custom DATASET\n",
    "##########################\n",
    "import torch.utils.data as data\n",
    "\n",
    "tr_data_trans = torchvision.transforms.Compose([\n",
    "    torchvision.transforms.Resize((70, 70)),\n",
    "    torchvision.transforms.RandomCrop((64, 64)),\n",
    "    torchvision.transforms.ToTensor(), #it converts data in the range 0-255 to 0-1.\n",
    "    torchvision.transforms.Normalize((0.485, 0.456, 0.406), (0.229, 0.224, 0.225))])\n",
    "\n",
    "validation_data_trans = torchvision.transforms.Compose([\n",
    "    torchvision.transforms.Resize((70, 70)),        \n",
    "    torchvision.transforms.CenterCrop((64, 64)),            \n",
    "    torchvision.transforms.ToTensor(),\n",
    "    torchvision.transforms.Normalize((0.485, 0.456, 0.406), (0.229, 0.224, 0.225))])\n",
    "\n",
    "tst_data_transform = torchvision.transforms.Compose([\n",
    "    torchvision.transforms.Resize((70, 70)),        \n",
    "    torchvision.transforms.CenterCrop((64, 64)),            \n",
    "    torchvision.transforms.ToTensor(),\n",
    "    torchvision.transforms.Normalize((0.485, 0.456, 0.406), (0.229, 0.224, 0.225))])\n",
    "\n",
    "\n",
    "train_ds_cln = torchvision.datasets.ImageFolder(root=tr_ds_path, transform= tr_data_trans)\n",
    "train_loader_cln = data.DataLoader(train_ds_cln, btch_input_sz=206, shuffle=True)\n",
    "\n",
    "\n",
    "test_ds_cln = torchvision.datasets.ImageFolder(root=ts_ds_path, transform= tst_data_transform)\n",
    "test_loader_cln = data.DataLoader(test_ds_cln, btch_input_sz=206, shuffle=True)\n",
    "\n",
    "\n",
    "valid_ds_cln = torchvision.datasets.ImageFolder(root=vd_ds_path, transform= validation_data_trans)\n",
    "valid_loader_cln = data.DataLoader(valid_ds_cln, btch_input_sz=63, shuffle=True)\n",
    "\n",
    "\n",
    "\n",
    "\n",
    "# Checking the dataset\n",
    "for images, labels in train_loader_cln:  \n",
    "    print('Image batch dimensions:', images.shape)\n",
    "    print('Image label dimensions:', labels.shape)\n",
    "    print('Class labels of 10 examples:', labels[:10])\n",
    "    break"
   ]
  },
  {
   "cell_type": "markdown",
   "metadata": {
    "id": "I8B1GZwxOqtz"
   },
   "source": [
    "# **Train Dataset**"
   ]
  },
  {
   "cell_type": "code",
   "execution_count": 72,
   "metadata": {
    "colab": {
     "base_uri": "https://localhost:8080/"
    },
    "id": "p8tLLWLJLV-T",
    "outputId": "3e469f88-baad-4180-c893-97d4146b1cae"
   },
   "outputs": [
    {
     "name": "stdout",
     "output_type": "stream",
     "text": [
      "Image batch dimensions: torch.Size([206, 3, 64, 64])\n",
      "Image label dimensions: torch.Size([206])\n",
      "Class labels of 10 examples: tensor([0, 1, 0, 1, 1, 1, 1, 1, 0, 1])\n"
     ]
    }
   ],
   "source": [
    "for images, labels in train_loader_cln:  \n",
    "    print('Image batch dimensions:', images.shape)\n",
    "    print('Image label dimensions:', labels.shape)\n",
    "    print('Class labels of 10 examples:', labels[:10])\n",
    "    break"
   ]
  },
  {
   "cell_type": "code",
   "execution_count": 73,
   "metadata": {
    "colab": {
     "base_uri": "https://localhost:8080/"
    },
    "id": "DHTE8I23Mwwz",
    "outputId": "552e343a-8c00-4416-feb5-3b48f784ffb0"
   },
   "outputs": [
    {
     "data": {
      "text/plain": [
       "torch.Size([206, 3, 64, 64])"
      ]
     },
     "execution_count": 73,
     "metadata": {},
     "output_type": "execute_result"
    }
   ],
   "source": [
    "tr_ds = images\n",
    "tr_ds.shape"
   ]
  },
  {
   "cell_type": "code",
   "execution_count": 74,
   "metadata": {
    "colab": {
     "base_uri": "https://localhost:8080/"
    },
    "id": "KwO-OoNxNIhp",
    "outputId": "6e383f84-cd20-4b84-b0f2-2324be2f1540"
   },
   "outputs": [
    {
     "data": {
      "text/plain": [
       "torch.Size([206])"
      ]
     },
     "execution_count": 74,
     "metadata": {},
     "output_type": "execute_result"
    }
   ],
   "source": [
    "tr_label = labels\n",
    "tr_label.shape"
   ]
  },
  {
   "cell_type": "markdown",
   "metadata": {
    "id": "Fl-0cGgtNbiU"
   },
   "source": [
    "# **Validation set**"
   ]
  },
  {
   "cell_type": "code",
   "execution_count": 75,
   "metadata": {
    "colab": {
     "base_uri": "https://localhost:8080/"
    },
    "id": "wyBimb6BNYjY",
    "outputId": "f9c334e3-a3b8-420b-fa45-e20ba7696cd5"
   },
   "outputs": [
    {
     "name": "stdout",
     "output_type": "stream",
     "text": [
      "Image batch dimensions: torch.Size([63, 3, 64, 64])\n",
      "Image label dimensions: torch.Size([63])\n",
      "Class labels of 10 examples: tensor([1, 1, 0, 0, 1, 0, 1, 1, 1, 1])\n"
     ]
    }
   ],
   "source": [
    "for images, labels in valid_loader_cln:  \n",
    "    print('Image batch dimensions:', images.shape)\n",
    "    print('Image label dimensions:', labels.shape)\n",
    "    print('Class labels of 10 examples:', labels[:10])\n",
    "    break"
   ]
  },
  {
   "cell_type": "code",
   "execution_count": 76,
   "metadata": {
    "colab": {
     "base_uri": "https://localhost:8080/"
    },
    "id": "SrJplzpfOJoX",
    "outputId": "aa4ef99c-f49f-462a-c9c8-18b2c3b98426"
   },
   "outputs": [
    {
     "data": {
      "text/plain": [
       "torch.Size([63, 3, 64, 64])"
      ]
     },
     "execution_count": 76,
     "metadata": {},
     "output_type": "execute_result"
    }
   ],
   "source": [
    "vd_ds = images\n",
    "vd_ds.shape"
   ]
  },
  {
   "cell_type": "markdown",
   "metadata": {
    "id": "yys17ITEOiZE"
   },
   "source": [
    "# **Test Dataset**"
   ]
  },
  {
   "cell_type": "code",
   "execution_count": 77,
   "metadata": {
    "colab": {
     "base_uri": "https://localhost:8080/"
    },
    "id": "7auQDq6mOgKd",
    "outputId": "7f63a994-7d63-48dc-e1fe-16fa99c948d7"
   },
   "outputs": [
    {
     "name": "stdout",
     "output_type": "stream",
     "text": [
      "Image batch dimensions: torch.Size([63, 3, 64, 64])\n",
      "Image label dimensions: torch.Size([63])\n",
      "Class labels of 10 examples: tensor([1, 1, 1, 1, 1, 0, 1, 1, 1, 0])\n"
     ]
    }
   ],
   "source": [
    "for images, labels in test_loader_cln:  \n",
    "    print('Image batch dimensions:', images.shape)\n",
    "    print('Image label dimensions:', labels.shape)\n",
    "    print('Class labels of 10 examples:', labels[:10])\n",
    "    break"
   ]
  },
  {
   "cell_type": "markdown",
   "metadata": {
    "id": "o-vXxZpDQL5H"
   },
   "source": [
    "# **Load Pre-Trained Model**"
   ]
  },
  {
   "cell_type": "code",
   "execution_count": 78,
   "metadata": {
    "colab": {
     "base_uri": "https://localhost:8080/"
    },
    "id": "g566Nw7cQDb8",
    "outputId": "df795ab7-75be-4957-f73c-aecba74cb480"
   },
   "outputs": [
    {
     "data": {
      "text/plain": [
       "VGG(\n",
       "  (features): Sequential(\n",
       "    (0): Conv2d(3, 64, kernel_size=(3, 3), stride=(1, 1), padding=(1, 1))\n",
       "    (1): ReLU(inplace=True)\n",
       "    (2): Conv2d(64, 64, kernel_size=(3, 3), stride=(1, 1), padding=(1, 1))\n",
       "    (3): ReLU(inplace=True)\n",
       "    (4): MaxPool2d(kernel_size=2, stride=2, padding=0, dilation=1, ceil_mode=False)\n",
       "    (5): Conv2d(64, 128, kernel_size=(3, 3), stride=(1, 1), padding=(1, 1))\n",
       "    (6): ReLU(inplace=True)\n",
       "    (7): Conv2d(128, 128, kernel_size=(3, 3), stride=(1, 1), padding=(1, 1))\n",
       "    (8): ReLU(inplace=True)\n",
       "    (9): MaxPool2d(kernel_size=2, stride=2, padding=0, dilation=1, ceil_mode=False)\n",
       "    (10): Conv2d(128, 256, kernel_size=(3, 3), stride=(1, 1), padding=(1, 1))\n",
       "    (11): ReLU(inplace=True)\n",
       "    (12): Conv2d(256, 256, kernel_size=(3, 3), stride=(1, 1), padding=(1, 1))\n",
       "    (13): ReLU(inplace=True)\n",
       "    (14): Conv2d(256, 256, kernel_size=(3, 3), stride=(1, 1), padding=(1, 1))\n",
       "    (15): ReLU(inplace=True)\n",
       "    (16): MaxPool2d(kernel_size=2, stride=2, padding=0, dilation=1, ceil_mode=False)\n",
       "    (17): Conv2d(256, 512, kernel_size=(3, 3), stride=(1, 1), padding=(1, 1))\n",
       "    (18): ReLU(inplace=True)\n",
       "    (19): Conv2d(512, 512, kernel_size=(3, 3), stride=(1, 1), padding=(1, 1))\n",
       "    (20): ReLU(inplace=True)\n",
       "    (21): Conv2d(512, 512, kernel_size=(3, 3), stride=(1, 1), padding=(1, 1))\n",
       "    (22): ReLU(inplace=True)\n",
       "    (23): MaxPool2d(kernel_size=2, stride=2, padding=0, dilation=1, ceil_mode=False)\n",
       "    (24): Conv2d(512, 512, kernel_size=(3, 3), stride=(1, 1), padding=(1, 1))\n",
       "    (25): ReLU(inplace=True)\n",
       "    (26): Conv2d(512, 512, kernel_size=(3, 3), stride=(1, 1), padding=(1, 1))\n",
       "    (27): ReLU(inplace=True)\n",
       "    (28): Conv2d(512, 512, kernel_size=(3, 3), stride=(1, 1), padding=(1, 1))\n",
       "    (29): ReLU(inplace=True)\n",
       "    (30): MaxPool2d(kernel_size=2, stride=2, padding=0, dilation=1, ceil_mode=False)\n",
       "  )\n",
       "  (avgpool): AdaptiveAvgPool2d(output_size=(7, 7))\n",
       "  (classifier): Sequential(\n",
       "    (0): Linear(in_features=25088, out_features=4096, bias=True)\n",
       "    (1): ReLU(inplace=True)\n",
       "    (2): Dropout(p=0.5, inplace=False)\n",
       "    (3): Linear(in_features=4096, out_features=4096, bias=True)\n",
       "    (4): ReLU(inplace=True)\n",
       "    (5): Dropout(p=0.5, inplace=False)\n",
       "    (6): Linear(in_features=4096, out_features=1000, bias=True)\n",
       "  )\n",
       ")"
      ]
     },
     "execution_count": 78,
     "metadata": {},
     "output_type": "execute_result"
    }
   ],
   "source": [
    "model = torchvision.models.vgg16(pretrained=True)\n",
    "model"
   ]
  },
  {
   "cell_type": "markdown",
   "metadata": {
    "id": "xeBhBHkyscRT"
   },
   "source": [
    "# **Freezing the model**"
   ]
  },
  {
   "cell_type": "markdown",
   "metadata": {
    "id": "KUFkFfLwsidM"
   },
   "source": [
    "Assume we want to fine-tune (train) the last 3 layers:"
   ]
  },
  {
   "cell_type": "code",
   "execution_count": 79,
   "metadata": {
    "id": "FLeoRZWFYnHF"
   },
   "outputs": [],
   "source": [
    "for param in model.parameters():\n",
    "    param.requires_grad = False"
   ]
  },
  {
   "cell_type": "code",
   "execution_count": 80,
   "metadata": {
    "id": "N0G2RzgjsbOF"
   },
   "outputs": [],
   "source": [
    "model.classifier[1].requires_grad = True\n",
    "model.classifier[3].requires_grad = True"
   ]
  },
  {
   "cell_type": "markdown",
   "metadata": {
    "id": "u0hrjttxsqzK"
   },
   "source": [
    "For the last layer, because the number of class labels differs compared to ImageNet, we replace the output layer with your own output layer:"
   ]
  },
  {
   "cell_type": "code",
   "execution_count": 81,
   "metadata": {
    "id": "0kc7OyFXsmGg"
   },
   "outputs": [],
   "source": [
    "model.classifier[6] = torch.nn.Linear(4096, 2)"
   ]
  },
  {
   "cell_type": "markdown",
   "metadata": {
    "id": "cioKUxQas0MR"
   },
   "source": [
    "# **Training**"
   ]
  },
  {
   "cell_type": "code",
   "execution_count": 82,
   "metadata": {
    "id": "BS_xPhg8Re-u"
   },
   "outputs": [],
   "source": [
    "def find_acc_metric(input_model, input_data_ldr, dvc):\n",
    "\n",
    "    with torch.no_grad():\n",
    "\n",
    "        correct_pred, num_examples = 0, 0\n",
    "\n",
    "        for i, (features, targets) in enumerate(input_data_ldr):\n",
    "\n",
    "            features = features.to(dvc)\n",
    "            targets = targets.float().to(dvc)\n",
    "\n",
    "            preds = input_model(features)\n",
    "            _, predicted_labels = torch.max(preds, 1)\n",
    "\n",
    "            num_examples += targets.size(0)\n",
    "            correct_pred += (predicted_labels == targets).sum()\n",
    "    return correct_pred.float()/num_examples * 100"
   ]
  },
  {
   "cell_type": "code",
   "execution_count": 83,
   "metadata": {
    "id": "3oP1eUmRQ44l"
   },
   "outputs": [],
   "source": [
    "def mdl_training(model, epch_nmbr, train_loader,\n",
    "                valid_loader, test_loader, optimizer,\n",
    "                device, logging_interval=50,\n",
    "                scheduler=None,\n",
    "                scheduler_on='valid_acc'):\n",
    "\n",
    "    tme_strt = time.time()\n",
    "    list_from_loss, accuracy_train, accuracy_validation = [], [], []\n",
    "    \n",
    "    for epoch in range(epch_nmbr):\n",
    "\n",
    "        model.train()\n",
    "        for batch_idx, (features, targets) in enumerate(train_loader): #iterating over minibatches\n",
    "\n",
    "            features = features.to(device) #Loading the data\n",
    "            targets = targets.to(device)\n",
    "\n",
    "            # ## FORWARD AND BACK PROP\n",
    "            preds = model(features) #prediction\n",
    "            loss = torch.nn.functional.cross_entropy(preds, targets)\n",
    "            optimizer.zero_grad() \n",
    "\n",
    "            loss.backward() #backpropagation\n",
    "\n",
    "            # ## UPDATE MODEL PARAMETERS\n",
    "            optimizer.step()\n",
    "\n",
    "            # ## LOGGING\n",
    "            list_from_loss.append(loss.item())\n",
    "            if not batch_idx % logging_interval:\n",
    "                print(f'Epoch: {epoch+1:03d}/{epch_nmbr:03d} '\n",
    "                      f'| Batch {batch_idx:04d}/{len(train_loader):04d} '\n",
    "                      f'| Loss: {loss:.4f}')\n",
    "\n",
    "        model.eval()\n",
    "        with torch.no_grad():  # save memory during inference\n",
    "            train_acc = find_acc_metric(model, train_loader, device=device)\n",
    "            valid_acc = find_acc_metric(model, valid_loader, device=device)\n",
    "            print(f'Epoch: {epoch+1:03d}/{epch_nmbr:03d} '\n",
    "                  f'| Train: {train_acc :.2f}% '\n",
    "                  f'| Validation: {valid_acc :.2f}%')\n",
    "            accuracy_train.append(train_acc.item())\n",
    "            accuracy_validation.append(valid_acc.item())\n",
    "\n",
    "        tr_time = (time.time() - tme_strt)/60\n",
    "        print(f'Time tr_time: {tr_time:.2f} min')\n",
    "        \n",
    "        if scheduler is not None:\n",
    "\n",
    "            if scheduler_on == 'valid_acc':\n",
    "                scheduler.step(accuracy_validation[-1])\n",
    "            elif scheduler_on == 'minibatch_loss':\n",
    "                scheduler.step(list_from_loss[-1])\n",
    "            else:\n",
    "                raise ValueError(f'Invalid `scheduler_on` choice.')\n",
    "        \n",
    "\n",
    "    tr_time = (time.time() - tme_strt)/60\n",
    "    print(f'Final Training Time: {tr_time:.2f} min')\n",
    "\n",
    "    test_acc = find_acc_metric(model, test_loader, device=device)\n",
    "    print(f'Test accuracy {test_acc :.2f}%')\n",
    "\n",
    "    return list_from_loss, accuracy_train, accuracy_validation"
   ]
  },
  {
   "cell_type": "code",
   "execution_count": 85,
   "metadata": {
    "id": "gb2oiA1hRQB9"
   },
   "outputs": [],
   "source": [
    "def Viz_acc(acc_training, val_acc, loc_res):\n",
    "\n",
    "    epch_nmbr = len(acc_training)\n",
    "\n",
    "    plt.plot(np.arange(1, epch_nmbr+1),\n",
    "             acc_training, label='Training')\n",
    "    plt.plot(np.arange(1, epch_nmbr+1),\n",
    "             val_acc, label='Validation')\n",
    "\n",
    "    plt.xlabel('# of Epoch')\n",
    "    plt.ylabel('Accuracy')\n",
    "    plt.legend()\n",
    "\n",
    "    plt.tight_layout()\n",
    "\n",
    "    if loc_res is not None:\n",
    "        image_path = os.path.join(\n",
    "            loc_res, 'plot_acc_training_validation.pdf')\n",
    "        plt.savefig(image_path)"
   ]
  },
  {
   "cell_type": "code",
   "execution_count": 86,
   "metadata": {
    "colab": {
     "base_uri": "https://localhost:8080/"
    },
    "id": "lVHq5_tRsvdx",
    "outputId": "737ec794-7444-4712-fda6-315d361c33af"
   },
   "outputs": [
    {
     "name": "stdout",
     "output_type": "stream",
     "text": [
      "Epoch: 001/005 | Batch 0000/0001 | Loss: 1.4587\n",
      "Epoch: 001/005 | Train: 79.13% | Validation: 76.21%\n",
      "Time elapsed: 0.34 min\n",
      "Epoch: 002/005 | Batch 0000/0001 | Loss: 0.8952\n",
      "Epoch: 002/005 | Train: 92.72% | Validation: 90.29%\n",
      "Time elapsed: 0.67 min\n",
      "Epoch: 003/005 | Batch 0000/0001 | Loss: 0.3280\n",
      "Epoch: 003/005 | Train: 97.57% | Validation: 96.60%\n",
      "Time elapsed: 0.99 min\n",
      "Epoch: 004/005 | Batch 0000/0001 | Loss: 0.1774\n",
      "Epoch: 004/005 | Train: 99.03% | Validation: 96.60%\n",
      "Time elapsed: 1.32 min\n",
      "Epoch: 005/005 | Batch 0000/0001 | Loss: 0.0581\n",
      "Epoch: 005/005 | Train: 99.51% | Validation: 98.06%\n",
      "Time elapsed: 1.66 min\n",
      "Total Training Time: 1.66 min\n",
      "Test accuracy 100.00%\n"
     ]
    }
   ],
   "source": [
    "DEVICE = \"cuda\" if torch.cuda.is_available() else \"cpu\"\n",
    "model = model.to(DEVICE)\n",
    "\n",
    "optimizer = torch.optim.SGD(model.parameters(), momentum=0.9, lr=0.01)\n",
    "scheduler = torch.optim.lr_scheduler.ReduceLROnPlateau(optimizer,\n",
    "                                                       factor=0.1,\n",
    "                                                       mode='max',\n",
    "                                                       verbose=True)\n",
    "\n",
    "list_from_loss, accuracy_train, accuracy_validation = mdl_training(\n",
    "    model=model,\n",
    "    epch_nmbr=5,\n",
    "    train_loader=train_loader_cln,\n",
    "    valid_loader=valid_loader_cln,\n",
    "    test_loader=test_loader_cln,\n",
    "    optimizer=optimizer,\n",
    "    device=DEVICE,\n",
    "    scheduler=scheduler,\n",
    "    scheduler_on='valid_acc',\n",
    "    logging_interval=100)\n"
   ]
  },
  {
   "cell_type": "code",
   "execution_count": 89,
   "metadata": {
    "colab": {
     "base_uri": "https://localhost:8080/",
     "height": 301
    },
    "id": "mjvbNr-6S2Qu",
    "outputId": "ad707f4f-a794-4277-cb8a-298f63f050c0"
   },
   "outputs": [
    {
     "data": {
      "image/png": "[encoded data removed]",
      "text/plain": [
       "<Figure size 432x288 with 1 Axes>"
      ]
     },
     "metadata": {
      "needs_background": "light"
     },
     "output_type": "display_data"
    }
   ],
   "source": [
    "Viz_acc(accuracy_train=accuracy_train,\n",
    "              accuracy_validation=accuracy_validation,\n",
    "              results_dir=None)\n",
    "plt.ylim([60, 100])\n",
    "plt.show()"
   ]
  },
  {
   "cell_type": "code",
   "execution_count": 90,
   "metadata": {
    "id": "-70lo5WkSZ5R"
   },
   "outputs": [],
   "source": [
    "def example_sample(model, data_loader, unnormalizer=None, class_dict=None):\n",
    "    \n",
    "        \n",
    "    for batch_idx, (features, targets) in enumerate(data_loader):\n",
    "\n",
    "        with torch.no_grad():\n",
    "            features = features\n",
    "            targets = targets\n",
    "            preds = model(features)\n",
    "            predictions = torch.argmax(preds, dim=1)\n",
    "        break\n",
    "\n",
    "    fig, axes = plt.subplots(nrows=3, ncols=5,\n",
    "                             sharex=True, sharey=True)\n",
    "    \n",
    "    if unnormalizer is not None:\n",
    "        for idx in range(features.shape[0]):\n",
    "            features[idx] = unnormalizer(features[idx])\n",
    "    nhwc_img = np.transpose(features, axes=(0, 2, 3, 1))\n",
    "    \n",
    "    if nhwc_img.shape[-1] == 1:\n",
    "        nhw_img = np.squeeze(nhwc_img.numpy(), axis=3)\n",
    "\n",
    "        for idx, ax in enumerate(axes.ravel()):\n",
    "            ax.imshow(nhw_img[idx], cmap='binary')\n",
    "            if class_dict is not None:\n",
    "                ax.title.set_text(f'P: {class_dict[predictions[idx].item()]}'\n",
    "                                  f'\\nT: {class_dict[targets[idx].item()]}')\n",
    "            else:\n",
    "                ax.title.set_text(f'P: {predictions[idx]} | T: {targets[idx]}')\n",
    "            ax.axison = False\n",
    "\n",
    "    else:\n",
    "\n",
    "        for idx, ax in enumerate(axes.ravel()):\n",
    "            ax.imshow(nhwc_img[idx])\n",
    "            if class_dict is not None:\n",
    "                ax.title.set_text(f'P: {class_dict[predictions[idx].item()]}'\n",
    "                                  f'\\nT: {class_dict[targets[idx].item()]}')\n",
    "            else:\n",
    "                ax.title.set_text(f'P: {predictions[idx]} | T: {targets[idx]}')\n",
    "            ax.axison = False\n",
    "    plt.tight_layout()\n",
    "    plt.show()"
   ]
  },
  {
   "cell_type": "code",
   "execution_count": 91,
   "metadata": {
    "id": "Z3eSbYKGT-m1"
   },
   "outputs": [],
   "source": [
    "class UnNormalize(object): #for plotting the images\n",
    "    def __init__(self, mean, std):\n",
    "        self.mean = mean\n",
    "        self.std = std\n",
    "\n",
    "    def __call__(self, tensor):\n",
    "        \"\"\"\n",
    "        Parameters:\n",
    "        ------------\n",
    "        tensor (Tensor): Tensor image of size (C, H, W) to be normalized.\n",
    "        \n",
    "        Returns:\n",
    "        ------------\n",
    "        Tensor: Normalized image.\n",
    "        \"\"\"\n",
    "        for t, m, s in zip(tensor, self.mean, self.std):\n",
    "            t.mul_(s).add_(m)\n",
    "        return tensor"
   ]
  },
  {
   "cell_type": "code",
   "execution_count": 92,
   "metadata": {
    "colab": {
     "base_uri": "https://localhost:8080/",
     "height": 318
    },
    "id": "vwqYLbkmwKSA",
    "outputId": "bbacc965-59e1-46e8-a905-2a918e9f269f"
   },
   "outputs": [
    {
     "name": "stderr",
     "output_type": "stream",
     "text": [
      "Clipping input data to the valid range for imshow with RGB data ([0..1] for floats or [0..255] for integers).\n"
     ]
    },
    {
     "data": {
      "image/png": "[encoded data removed]",
      "text/plain": [
       "<Figure size 432x288 with 15 Axes>"
      ]
     },
     "metadata": {
      "needs_background": "light"
     },
     "output_type": "display_data"
    }
   ],
   "source": [
    "model.cpu()\n",
    "unnormalizer = UnNormalize((0.485, 0.456, 0.406), (0.229, 0.224, 0.2255))\n",
    "class_dict = {0: 'anomaly',\n",
    "              1: 'clean'}\n",
    "\n",
    "example_sample(model=model, data_loader=test_loader_cln, unnormalizer=unnormalizer, class_dict=class_dict)"
   ]
  },
  {
   "cell_type": "code",
   "execution_count": 93,
   "metadata": {
    "id": "c2yKd6ilWVFO"
   },
   "outputs": [],
   "source": [
    "def conf_matrix(model, input_data_ldr, input_dvc):\n",
    "\n",
    "    trgt_data, pred_data = [], []\n",
    "    with torch.no_grad():\n",
    "\n",
    "        for i, (features, targets) in enumerate(input_data_ldr):\n",
    "\n",
    "            features = features.to(input_dvc)\n",
    "            targets = targets\n",
    "            preds = model(features)\n",
    "            _, predicted_labels = torch.max(preds, 1)\n",
    "            trgt_data.extend(targets.to('cpu'))\n",
    "            pred_data.extend(predicted_labels.to('cpu'))\n",
    "\n",
    "    pred_data = pred_data\n",
    "    pred_data = np.array(pred_data)\n",
    "    trgt_data = np.array(trgt_data)\n",
    "        \n",
    "    lable_values = np.unique(np.concatenate((trgt_data, pred_data)))\n",
    "    if lable_values.shape[0] == 1:\n",
    "        if lable_values[0] != 0:\n",
    "            lable_values = np.array([0, lable_values[0]])\n",
    "        else:\n",
    "            lable_values = np.array([lable_values[0], 1])\n",
    "    n_labels = lable_values.shape[0]\n",
    "    lst = []\n",
    "    z = list(zip(trgt_data, pred_data))\n",
    "    for combi in product(lable_values, repeat=2):\n",
    "        lst.append(z.count(combi))\n",
    "    mat = np.asarray(lst)[:, None].reshape(n_labels, n_labels)\n",
    "    return mat"
   ]
  },
  {
   "cell_type": "code",
   "execution_count": 94,
   "metadata": {
    "id": "NRutP4vNWhzy"
   },
   "outputs": [],
   "source": [
    "def plot_confusion_matrix(conf_mat,\n",
    "                          hide_spines=False,\n",
    "                          hide_ticks=False,\n",
    "                          figsize=None,\n",
    "                          cmap=None,\n",
    "                          colorbar=False,\n",
    "                          show_absolute=True,\n",
    "                          show_normed=False,\n",
    "                          class_names=None):\n",
    "\n",
    "    if not (show_absolute or show_normed):\n",
    "        raise AssertionError('Both show_absolute and show_normed are False')\n",
    "    if class_names is not None and len(class_names) != len(conf_mat):\n",
    "        raise AssertionError('len(class_names) should be equal to number of'\n",
    "                             'classes in the dataset')\n",
    "\n",
    "    total_samples = conf_mat.sum(axis=1)[:, np.newaxis]\n",
    "    normed_conf_mat = conf_mat.astype('float') / total_samples\n",
    "\n",
    "    fig, ax = plt.subplots(figsize=figsize)\n",
    "    ax.grid(False)\n",
    "    if cmap is None:\n",
    "        cmap = plt.cm.Blues\n",
    "\n",
    "    if figsize is None:\n",
    "        figsize = (len(conf_mat)*1.25, len(conf_mat)*1.25)\n",
    "\n",
    "    if show_normed:\n",
    "        matshow = ax.matshow(normed_conf_mat, cmap=cmap)\n",
    "    else:\n",
    "        matshow = ax.matshow(conf_mat, cmap=cmap)\n",
    "\n",
    "    if colorbar:\n",
    "        fig.colorbar(matshow)\n",
    "\n",
    "    for i in range(conf_mat.shape[0]):\n",
    "        for j in range(conf_mat.shape[1]):\n",
    "            cell_text = \"\"\n",
    "            if show_absolute:\n",
    "                cell_text += format(conf_mat[i, j], 'd')\n",
    "                if show_normed:\n",
    "                    cell_text += \"\\n\" + '('\n",
    "                    cell_text += format(normed_conf_mat[i, j], '.2f') + ')'\n",
    "            else:\n",
    "                cell_text += format(normed_conf_mat[i, j], '.2f')\n",
    "            ax.text(x=j,\n",
    "                    y=i,\n",
    "                    s=cell_text,\n",
    "                    va='center',\n",
    "                    ha='center',\n",
    "                    color=\"white\" if normed_conf_mat[i, j] > 0.5 else \"black\")\n",
    "    \n",
    "    if class_names is not None:\n",
    "        tick_marks = np.arange(len(class_names))\n",
    "        plt.xticks(tick_marks, class_names, rotation=90)\n",
    "        plt.yticks(tick_marks, class_names)\n",
    "        \n",
    "    if hide_spines:\n",
    "        ax.spines['right'].set_visible(False)\n",
    "        ax.spines['top'].set_visible(False)\n",
    "        ax.spines['left'].set_visible(False)\n",
    "        ax.spines['bottom'].set_visible(False)\n",
    "    ax.yaxis.set_ticks_position('left')\n",
    "    ax.xaxis.set_ticks_position('bottom')\n",
    "    if hide_ticks:\n",
    "        ax.axes.get_yaxis().set_ticks([])\n",
    "        ax.axes.get_xaxis().set_ticks([])\n",
    "\n",
    "    plt.xlabel('predicted label')\n",
    "    plt.ylabel('true label')\n",
    "    return fig, ax"
   ]
  },
  {
   "cell_type": "code",
   "execution_count": 95,
   "metadata": {
    "colab": {
     "base_uri": "https://localhost:8080/",
     "height": 312
    },
    "id": "p57-DhBzxzkv",
    "outputId": "d2b9673b-e9cc-4752-e24d-06e29f9934d9"
   },
   "outputs": [
    {
     "data": {
      "image/png": "[encoded data removed]",
      "text/plain": [
       "<Figure size 432x288 with 1 Axes>"
      ]
     },
     "metadata": {
      "needs_background": "light"
     },
     "output_type": "display_data"
    }
   ],
   "source": [
    "mat = conf_matrix(model=model, data_loader=test_loader_cln, device=torch.device('cpu'))\n",
    "plot_confusion_matrix(mat, class_names=class_dict.values())\n",
    "plt.show()"
   ]
  },
  {
   "cell_type": "code",
   "execution_count": null,
   "metadata": {
    "id": "IwICRZFZyM40"
   },
   "outputs": [],
   "source": []
  }
 ],
 "metadata": {
  "accelerator": "GPU",
  "colab": {
   "collapsed_sections": [],
   "name": "anaomaly_detection_v1.ipynb",
   "provenance": []
  },
  "kernelspec": {
   "display_name": "Python 3 (ipykernel)",
   "language": "python",
   "name": "python3"
  },
  "language_info": {
   "codemirror_mode": {
    "name": "ipython",
    "version": 3
   },
   "file_extension": ".py",
   "mimetype": "text/x-python",
   "name": "python",
   "nbconvert_exporter": "python",
   "pygments_lexer": "ipython3",
   "version": "3.9.7"
  }
 },
 "nbformat": 4,
 "nbformat_minor": 1
}
